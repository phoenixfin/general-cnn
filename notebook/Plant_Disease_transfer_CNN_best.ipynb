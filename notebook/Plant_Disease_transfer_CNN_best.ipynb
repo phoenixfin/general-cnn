{
  "nbformat": 4,
  "nbformat_minor": 0,
  "metadata": {
    "colab": {
      "name": "Untitled0.ipynb",
      "provenance": [],
      "collapsed_sections": [],
      "mount_file_id": "https://github.com/phoenixfin/bangkit-final-project/blob/master/notebook/Plant_Disease_transfer_CNN.ipynb",
      "authorship_tag": "ABX9TyM/cs4sj8eflqVkJAcJm5n0",
      "include_colab_link": true
    },
    "kernelspec": {
      "name": "python3",
      "display_name": "Python 3"
    },
    "accelerator": "GPU"
  },
  "cells": [
    {
      "cell_type": "markdown",
      "metadata": {
        "id": "view-in-github",
        "colab_type": "text"
      },
      "source": [
        "<a href=\"https://colab.research.google.com/github/phoenixfin/general-cnn/blob/master/notebook/Plant_Disease_transfer_CNN_best.ipynb\" target=\"_parent\"><img src=\"https://colab.research.google.com/assets/colab-badge.svg\" alt=\"Open In Colab\"/></a>"
      ]
    },
    {
      "cell_type": "markdown",
      "metadata": {
        "id": "fdmcTm3D-QZI",
        "colab_type": "text"
      },
      "source": [
        "# Preparing"
      ]
    },
    {
      "cell_type": "markdown",
      "metadata": {
        "id": "EiIRXXDi-W5S",
        "colab_type": "text"
      },
      "source": [
        "## Import some modules"
      ]
    },
    {
      "cell_type": "code",
      "metadata": {
        "id": "0j--ugeghdh-",
        "colab_type": "code",
        "colab": {}
      },
      "source": [
        "import tensorflow as tf\n",
        "import numpy as np\n",
        "import os, random, shutil\n",
        "from google.colab import drive\n",
        "from matplotlib import pyplot as plt"
      ],
      "execution_count": 0,
      "outputs": []
    },
    {
      "cell_type": "markdown",
      "metadata": {
        "id": "Kjjm5q3o-e-C",
        "colab_type": "text"
      },
      "source": [
        "## Set up kaggle datasets"
      ]
    },
    {
      "cell_type": "markdown",
      "metadata": {
        "id": "MCR5IRaLUykS",
        "colab_type": "text"
      },
      "source": [
        "Install the newest kaggle python module"
      ]
    },
    {
      "cell_type": "code",
      "metadata": {
        "id": "V7rj6RGoicDS",
        "colab_type": "code",
        "outputId": "5b0408ba-94d5-48de-923c-549f22c7891f",
        "colab": {
          "base_uri": "https://localhost:8080/",
          "height": 212
        }
      },
      "source": [
        "!pip install kaggle --upgrade"
      ],
      "execution_count": 2,
      "outputs": [
        {
          "output_type": "stream",
          "text": [
            "Requirement already up-to-date: kaggle in /usr/local/lib/python3.6/dist-packages (1.5.6)\n",
            "Requirement already satisfied, skipping upgrade: tqdm in /usr/local/lib/python3.6/dist-packages (from kaggle) (4.41.1)\n",
            "Requirement already satisfied, skipping upgrade: six>=1.10 in /usr/local/lib/python3.6/dist-packages (from kaggle) (1.12.0)\n",
            "Requirement already satisfied, skipping upgrade: python-dateutil in /usr/local/lib/python3.6/dist-packages (from kaggle) (2.8.1)\n",
            "Requirement already satisfied, skipping upgrade: requests in /usr/local/lib/python3.6/dist-packages (from kaggle) (2.23.0)\n",
            "Requirement already satisfied, skipping upgrade: urllib3<1.25,>=1.21.1 in /usr/local/lib/python3.6/dist-packages (from kaggle) (1.24.3)\n",
            "Requirement already satisfied, skipping upgrade: certifi in /usr/local/lib/python3.6/dist-packages (from kaggle) (2020.4.5.1)\n",
            "Requirement already satisfied, skipping upgrade: python-slugify in /usr/local/lib/python3.6/dist-packages (from kaggle) (4.0.0)\n",
            "Requirement already satisfied, skipping upgrade: idna<3,>=2.5 in /usr/local/lib/python3.6/dist-packages (from requests->kaggle) (2.9)\n",
            "Requirement already satisfied, skipping upgrade: chardet<4,>=3.0.2 in /usr/local/lib/python3.6/dist-packages (from requests->kaggle) (3.0.4)\n",
            "Requirement already satisfied, skipping upgrade: text-unidecode>=1.3 in /usr/local/lib/python3.6/dist-packages (from python-slugify->kaggle) (1.3)\n"
          ],
          "name": "stdout"
        }
      ]
    },
    {
      "cell_type": "markdown",
      "metadata": {
        "id": "XsWoy8IkTLGa",
        "colab_type": "text"
      },
      "source": [
        "Mount your Google Drive to access Kaggle API json file.\n",
        "You can uncomment the code below, run it, follow a link given, give accesss, and copy the verification code. Alternatively, you can just click `Mount Drive` in Files pane.\n"
      ]
    },
    {
      "cell_type": "code",
      "metadata": {
        "id": "yCQ_XRvXUZ1y",
        "colab_type": "code",
        "colab": {}
      },
      "source": [
        "# drive.mount('/content/drive')"
      ],
      "execution_count": 0,
      "outputs": []
    },
    {
      "cell_type": "markdown",
      "metadata": {
        "id": "uMdKHBre-nzV",
        "colab_type": "text"
      },
      "source": [
        "Before run the following code, please create first API Token in your Kaggle account (go to the `My Account` section on profile. Then click on `Create New API Token`). You will obtain ‘kaggle.json’ file. This file has the credentials of your API token for your account. Upload this to your google drive and set the path to `json_path` variable below.\n",
        "\n",
        "In following block, follow a link given, give access to Google Drive and enter a verification code for the API to work."
      ]
    },
    {
      "cell_type": "code",
      "metadata": {
        "id": "YWjSuzlyjRK-",
        "colab_type": "code",
        "colab": {}
      },
      "source": [
        "json_path = \"Colab Notebooks/misc/\"\n",
        "\n",
        "os.environ['KAGGLE_CONFIG_DIR'] = \"/content/drive/My Drive/\"+json_path"
      ],
      "execution_count": 0,
      "outputs": []
    },
    {
      "cell_type": "markdown",
      "metadata": {
        "id": "LEVjKKlxACFx",
        "colab_type": "text"
      },
      "source": [
        "Download the datasets"
      ]
    },
    {
      "cell_type": "code",
      "metadata": {
        "id": "Af8BBTHTkaHN",
        "colab_type": "code",
        "outputId": "2eb6e116-8956-4f2a-a515-ca0938bbc9af",
        "colab": {
          "base_uri": "https://localhost:8080/",
          "height": 124
        }
      },
      "source": [
        "!kaggle datasets download -d vipoooool/new-plant-diseases-dataset\n",
        "!kaggle datasets download -d prasunroy/natural-images"
      ],
      "execution_count": 4,
      "outputs": [
        {
          "output_type": "stream",
          "text": [
            "Downloading new-plant-diseases-dataset.zip to /content\n",
            "100% 2.69G/2.70G [01:06<00:00, 53.8MB/s]\n",
            "100% 2.70G/2.70G [01:06<00:00, 43.5MB/s]\n",
            "Downloading natural-images.zip to /content\n",
            " 98% 337M/342M [00:08<00:00, 45.7MB/s]\n",
            "100% 342M/342M [00:08<00:00, 40.7MB/s]\n"
          ],
          "name": "stdout"
        }
      ]
    },
    {
      "cell_type": "markdown",
      "metadata": {
        "id": "u2xU6Qh3AFlI",
        "colab_type": "text"
      },
      "source": [
        "Unzip the downloaded file and remove the zip file"
      ]
    },
    {
      "cell_type": "code",
      "metadata": {
        "id": "Z1uxt2B9s23y",
        "colab_type": "code",
        "colab": {}
      },
      "source": [
        "%%capture\n",
        "!unzip \\*.zip  && rm *.zip;"
      ],
      "execution_count": 0,
      "outputs": []
    },
    {
      "cell_type": "code",
      "metadata": {
        "id": "JQkrOg_0dJZf",
        "colab_type": "code",
        "colab": {}
      },
      "source": [
        "tr_ = '/content/New Plant Diseases Dataset(Augmented)/New Plant Diseases Dataset(Augmented)/train/nonleaf__'\n",
        "va_ = '/content/New Plant Diseases Dataset(Augmented)/New Plant Diseases Dataset(Augmented)/valid/nonleaf__'\n",
        "os.mkdir(tr_)\n",
        "os.mkdir(va_)\n",
        "src = '/content/natural_images'\n",
        "for d in os.listdir(src):\n",
        "    d1 = src+'/'+d\n",
        "    lst = os.listdir(d1)\n",
        "    randomized = random.sample(lst, len(lst))\n",
        "    thres = round(len(lst)*0.7)  \n",
        "    for idx, img in enumerate(lst):\n",
        "        target = tr_ if idx < thres else va_\n",
        "        shutil.copy(d1+'/'+img, target+'/'+img)\n"
      ],
      "execution_count": 0,
      "outputs": []
    },
    {
      "cell_type": "code",
      "metadata": {
        "id": "igDfnDexfVXO",
        "colab_type": "code",
        "colab": {}
      },
      "source": [
        "for img in os.listdir(target):\n",
        "    try:\n",
        "        os.remove(target+'/'+img)\n",
        "    except FileNotFoundError:\n",
        "        pass"
      ],
      "execution_count": 0,
      "outputs": []
    },
    {
      "cell_type": "code",
      "metadata": {
        "id": "u8cKHAc3i2t_",
        "colab_type": "code",
        "colab": {
          "base_uri": "https://localhost:8080/",
          "height": 55
        },
        "outputId": "f6cce369-4e44-4d49-d612-b22820d272e7"
      },
      "source": [
        "os.rmdir('/content/New Plant Diseases Dataset(Augmented)/New Plant Diseases Dataset(Augmented)/train/.ipynb_checkpoints')\n",
        "print((os.listdir('/content/New Plant Diseases Dataset(Augmented)/New Plant Diseases Dataset(Augmented)/train')))"
      ],
      "execution_count": 34,
      "outputs": [
        {
          "output_type": "stream",
          "text": [
            "['Tomato___Tomato_mosaic_virus', 'Apple___Black_rot', 'Squash___Powdery_mildew', 'Corn_(maize)___Common_rust_', 'Potato___Early_blight', 'Pepper,_bell___Bacterial_spot', 'Strawberry___Leaf_scorch', 'Potato___healthy', 'Tomato___Early_blight', 'Tomato___Septoria_leaf_spot', 'Tomato___Leaf_Mold', 'Apple___healthy', 'Cherry_(including_sour)___Powdery_mildew', 'Corn_(maize)___Northern_Leaf_Blight', 'Grape___healthy', 'Apple___Apple_scab', 'Cherry_(including_sour)___healthy', 'Peach___healthy', 'Grape___Black_rot', 'Peach___Bacterial_spot', 'Tomato___Target_Spot', 'Strawberry___healthy', 'Tomato___Tomato_Yellow_Leaf_Curl_Virus', 'nonleaf__', 'Apple___Cedar_apple_rust', 'Raspberry___healthy', 'Orange___Haunglongbing_(Citrus_greening)', 'Grape___Leaf_blight_(Isariopsis_Leaf_Spot)', 'Blueberry___healthy', 'Corn_(maize)___Cercospora_leaf_spot Gray_leaf_spot', 'Tomato___healthy', 'Soybean___healthy', 'Pepper,_bell___healthy', 'Grape___Esca_(Black_Measles)', 'Tomato___Late_blight', 'Corn_(maize)___healthy', 'Potato___Late_blight', 'Tomato___Bacterial_spot', 'Tomato___Spider_mites Two-spotted_spider_mite']\n"
          ],
          "name": "stdout"
        }
      ]
    },
    {
      "cell_type": "markdown",
      "metadata": {
        "id": "Zw4VKgALAKyR",
        "colab_type": "text"
      },
      "source": [
        "# Set up Model Framework"
      ]
    },
    {
      "cell_type": "markdown",
      "metadata": {
        "id": "AXiUEFfIAQJj",
        "colab_type": "text"
      },
      "source": [
        "Just run the following block to define the base framework class for the nerual network to be used "
      ]
    },
    {
      "cell_type": "code",
      "metadata": {
        "id": "J1xAaeyYwGaL",
        "colab_type": "code",
        "colab": {}
      },
      "source": [
        "class TransferConvolutionalNetwork(object):\n",
        "    hyperparam = {}\n",
        "    augmentation = {'rescale': 1./255}\n",
        "    callbacks_list = [\n",
        "        # 'no_progresss_stopping', \n",
        "        'save_per_epoch', \n",
        "        'log_to_csv', \n",
        "        'good_result_stopping'\n",
        "    ]    \n",
        "            \n",
        "    def __init__(self):\n",
        "        self.model = None\n",
        "            \n",
        "    def show_summary(self):\n",
        "        self.model.summary()\n",
        "\n",
        "    def load(self, path, obj='model'):\n",
        "        file = 'saved\\\\'+path\n",
        "        if obj=='model':\n",
        "            self.model = tf.keras.models.load_model(file)\n",
        "        elif obj=='weights_only':\n",
        "            self.model.load_weights(file+'\\\\variables\\\\')\n",
        "        else:\n",
        "            print('Load failed. Unknown mode')\n",
        "\n",
        "    def save(self, filename, obj='model'):\n",
        "        path = 'saved\\\\'+filename\n",
        "        if obj=='model':\n",
        "            self.model.save(path)\n",
        "        elif obj=='weights_only':\n",
        "            self.model.save_weights(path+'\\\\'+variables)\n",
        "        else:\n",
        "            print('Load failed. Unknown mode')        \n",
        "        \n",
        "    def set_pretrained_model(self, model_name='InceptionV3', \n",
        "                             lastpool='avg', fine_tune_at=None,\n",
        "                             feature_only=True):\n",
        "        size = self.hyperparam['input_size']\n",
        "        self.premodel = getattr(tf.keras.applications, model_name)(\n",
        "            include_top=not feature_only, \n",
        "            input_shape=(size, size, 3),\n",
        "            pooling=lastpool, \n",
        "        )\n",
        "        self.model = self.premodel\n",
        "        self.last_output = self.premodel.layers[-1].output        \n",
        "        if lastpool == None:\n",
        "            self.last_output = tf.keras.layers.Flatten()(self.last_output) \n",
        "        \n",
        "        self.set_fine_tuning(fine_tune_at)\n",
        "\n",
        "    def rebase_model(self):\n",
        "        self.model = self.premodel\n",
        "        \n",
        "    def set_last_layer(self, ids=None, mode='name'):\n",
        "        last_layer = self.premodel.get_layer(**{mode: ids})\n",
        "        self.last_output = last_layer.output\n",
        "\n",
        "    def set_fine_tuning(self, fine_tune_at):\n",
        "        if type(fine_tune_at) == int:\n",
        "            fine_tune_at = self.premodel.get_layer(index=fine_tune_at).name\n",
        "        val = False\n",
        "        count = 0\n",
        "\n",
        "        for layer in self.premodel.layers:\n",
        "            if fine_tune_at:\n",
        "                if layer.name == fine_tune_at: \n",
        "                    val = True\n",
        "            count += int(val)\n",
        "            layer.trainable = val\n",
        "        print('trainable layers:', count)\n",
        "        print('total layers:', len(self.premodel.layers))\n",
        "\n",
        "    def add_convolution(self, filter_num, kernels_size, \n",
        "                        pooling = (2,2), activation = 'relu', \n",
        "                        dropout = 0, normalize = False):\n",
        "\n",
        "        kwargs = {'activation':activation}\n",
        "        for i, num in enumerate(filter_num):\n",
        "            kwargs['filters'] = num\n",
        "            kwargs['kernel_size'] = kernels_size[i]\n",
        "\n",
        "            x = tf.keras.layers.Conv2D(**kwargs)(self.last_output)\n",
        "            if pooling: \n",
        "                x = tf.keras.layers.MaxPooling2D(*pooling)(x)\n",
        "            if normalize:\n",
        "                x = tf.keras.layers.BatchNormalization()(x)\n",
        "\n",
        "        if dropout:\n",
        "            x = tf.keras.layers.Dropout(dropout)(x)\n",
        "        x = tf.keras.layers.Flatten()(x)\n",
        "        self.last_output = x\n",
        "        self.model = tf.keras.models.Model(self.model.input, x)\n",
        "        \n",
        "    def add_hidden_layers(self, neurons_list, dropout = 0, \n",
        "                          normalize = False, activation='relu'):\n",
        "        x = self.last_output\n",
        "        for num in neurons_list:\n",
        "            x = tf.keras.layers.Dense(num, activation=activation)(x)\n",
        "            if dropout:\n",
        "                x = tf.keras.layers.Dropout(dropout)(x)\n",
        "            if normalize:\n",
        "                x = tf.keras.layers.BatchNormalization()(x)        \n",
        "        self.last_output = x\n",
        "        self.model = tf.keras.models.Model(self.model.input, x)        \n",
        "        \n",
        "    def set_output_layer(self):\n",
        "        if self.mode == 'binary':\n",
        "            activation = 'sigmoid'\n",
        "        elif self.mode == 'categorical':\n",
        "            activation = 'softmax'\n",
        "        out_neurons = self.image_data['train'].num_classes        \n",
        "        out_layer = tf.keras.layers.Dense(out_neurons, activation=activation)\n",
        "        x = out_layer(self.last_output)\n",
        "\n",
        "        self.model = tf.keras.models.Model(self.model.input, x)\n",
        "\n",
        "    def obtain_image_data(self, path):\n",
        "        train_dir = path+'/train'\n",
        "        val_dir = path+'/valid'\n",
        "                \n",
        "        IMG = tf.keras.preprocessing.image.ImageDataGenerator\n",
        "\n",
        "        tg = IMG(**self.augmentation)\n",
        "        vg = IMG(rescale = 1./255)\n",
        "\n",
        "        in_ = self.hyperparam['input_size']\n",
        "        classes = len(os.listdir(train_dir))\n",
        "        self.mode = 'binary' if classes == 2 else 'categorical'\n",
        "\n",
        "        train_data = tg.flow_from_directory(\n",
        "            train_dir,\n",
        "            batch_size = self.hyperparam['batch_size'],\n",
        "            class_mode = self.mode,\n",
        "            target_size = (in_, in_)\n",
        "        )\n",
        "        validation_data =  vg.flow_from_directory(\n",
        "            val_dir,\n",
        "            batch_size = self.hyperparam['batch_size'],\n",
        "            class_mode = self.mode,\n",
        "            target_size = (in_, in_)\n",
        "        )\n",
        "        self.image_data = {'train':train_data, 'val':validation_data}\n",
        "\n",
        "    def set_callbacks(self, cb_list):\n",
        "        callbacks = []\n",
        "        CB = tf.keras.callbacks\n",
        "\n",
        "        # no progress stopping callback\n",
        "        if 'no_progress_stopping' in cb_list:\n",
        "            impatient = CB.EarlyStopping(\n",
        "                monitor='val_accuracy',\n",
        "                min_delta = 0.05, \n",
        "                patience=3)\n",
        "            callbacks.append(impatient)\n",
        "\n",
        "        # save per epoch callback\n",
        "        if 'save_per_epoch' in cb_list:\n",
        "            checkpoint_save = CB.ModelCheckpoint(\n",
        "                filepath=\"/content/drive/My Drive/Bangkit Final Project/tes2\", \n",
        "                save_best_only=True)\n",
        "            callbacks.append(checkpoint_save)\n",
        "\n",
        "        # log to csv file callback\n",
        "        if 'log_to_csv' in cb_list:\n",
        "            logger = CB.CSVLogger('training_log.csv')\n",
        "            callbacks.append(logger)\n",
        "\n",
        "        # stop when enough callback\n",
        "        if 'good_result_stopping' in cb_list:\n",
        "            def stopper(epoch, logs):\n",
        "                if logs['accuracy']>0.99: self.model.stop_training = True\n",
        "            good_res = CB.LambdaCallback(on_epoch_end=lambda e,l: stopper(e,l))\n",
        "            callbacks.append(good_res)\n",
        "                            \n",
        "        return callbacks\n",
        "\n",
        "    def train(self, save=False):\n",
        "        # Compile the model\n",
        "        lr = self.hyperparam['learning_rate']\n",
        "        opt = tf.keras.optimizers.Adam(learning_rate=lr)\n",
        "        loss = self.mode + '_crossentropy'\n",
        "        self.model.compile(optimizer=opt, loss=loss, metrics=['accuracy'])\n",
        "\n",
        "        # Set some callbacks\n",
        "        cb_list = self.callbacks_list.copy()\n",
        "        if not save:\n",
        "            cb_list.remove('save_per_epoch')\n",
        "        callbacks = self.set_callbacks(cb_list)\n",
        "\n",
        "        # Fitting the data!\n",
        "        history = self.model.fit(\n",
        "            self.image_data['train'],\n",
        "            validation_data = self.image_data['val'],\n",
        "            steps_per_epoch = self.hyperparam['steps'],\n",
        "            epochs = self.hyperparam['epochs'],\n",
        "            validation_steps = self.hyperparam['val_steps'],\n",
        "            callbacks = callbacks\n",
        "        )\n",
        "        return history\n",
        "          \n",
        "    def pretrained_predict(self, path, num=None):\n",
        "        IM = tf.keras.preprocessing.image\n",
        "        if num == None:\n",
        "          num = len(os.listdir(path))\n",
        "        category = imagenet_labels\n",
        "        test_data = random.sample(os.listdir(path), num)\n",
        "        size = self.hyperparam['input_size']\n",
        "        \n",
        "        for file in test_data:\n",
        "            img = IM.load_img(path+'/'+file, target_size=[224, 224])\n",
        "            plt.imshow(img)\n",
        "            x = IM.img_to_array(img)\n",
        "            x = tf.keras.applications.mobilenet.preprocess_input(\n",
        "                x[tf.newaxis,...])\n",
        "            res = self.premodel(x)\n",
        "\n",
        "            decoded = imagenet_labels[np.argsort(res)[0,::-1][:10]+1]\n",
        "            print(file, ': ', decoded)\n",
        "\n",
        "\n",
        "    def predict(self, path, num):\n",
        "        IM = tf.keras.preprocessing.image\n",
        "        category = list(self.image_data['train'].class_indices.keys())\n",
        "        test_data = random.sample(os.listdir(path), num)\n",
        "        size = self.hyperparam['input_size']\n",
        "        \n",
        "        for file in test_data:\n",
        "            img = IM.load_img(path+'/'+file, target_size = (size, size))\n",
        "            img_array = IM.img_to_array(img)\n",
        "            normalized = np.expand_dims(img_array, axis=0)/255\n",
        "\n",
        "            res = self.model.predict(normalized, batch_size=10)\n",
        "            print(file, ': ',category[np.argmax(res[0])])\n",
        "\n",
        "    def report(self, history):\n",
        "        plot_accuracy(history)"
      ],
      "execution_count": 0,
      "outputs": []
    },
    {
      "cell_type": "code",
      "metadata": {
        "id": "B_HOAhUxdygl",
        "colab_type": "code",
        "colab": {}
      },
      "source": [
        "def plot_accuracy(history):\n",
        "    acc      = history.history['accuracy']\n",
        "    val_acc  = history.history['val_accuracy']\n",
        "    loss     = history.history['loss']\n",
        "    val_loss = history.history['val_loss']\n",
        "\n",
        "    epochs   = range(len(acc)) # Get number of epochs\n",
        "\n",
        "    plt.plot(epochs, acc, 'bo', label='Training accuracy')\n",
        "    plt.plot(epochs, val_acc, 'b', label='Validation accuracy')\n",
        "    plt.title('Training and validation accuracy')\n",
        "    plt.legend()\n",
        "    plt.figure()\n",
        "\n",
        "    plt.plot(epochs, loss, 'bo', label='Training Loss')\n",
        "    plt.plot(epochs, val_loss, 'b', label='Validation Loss')\n",
        "    plt.title('Training and validation loss')\n",
        "    plt.legend()\n",
        "\n",
        "    plt.show()"
      ],
      "execution_count": 0,
      "outputs": []
    },
    {
      "cell_type": "markdown",
      "metadata": {
        "id": "AZt3p06YA_xP",
        "colab_type": "text"
      },
      "source": [
        "# Train the Pretrained"
      ]
    },
    {
      "cell_type": "markdown",
      "metadata": {
        "id": "sFf5ehkXc415",
        "colab_type": "text"
      },
      "source": [
        "Now, let's retrain the pretrained to adjust the classification.\n",
        "\n",
        "Firstly, specify all the hyperparameters and image augmentation"
      ]
    },
    {
      "cell_type": "code",
      "metadata": {
        "id": "Ed85MmQEfrRt",
        "colab_type": "code",
        "colab": {}
      },
      "source": [
        "pretrained_lst = {\n",
        "    'DN121': 'DenseNet121',\n",
        "    'DN169': 'DenseNet169',\n",
        "    'DN201': 'DenseNet201',\n",
        "    'I-2': 'InceptionResNetV2',\n",
        "    'I-3': 'InceptionV3',\n",
        "    'MN-1': 'MobileNet',\n",
        "    'MN-2': 'MobileNetV2',\n",
        "    'NAS-L': 'NASNetLarge',\n",
        "    'NAS-M':'NASNetMobile',\n",
        "    'RN101':'ResNet101',\n",
        "    'RN101-2':'ResNet101V2',\n",
        "    'RN152':'ResNet152',\n",
        "    'RN152-2':'ResNet152V2',\n",
        "    'RN50':'ResNet50',\n",
        "    'RN50-2':'ResNet50V2',\n",
        "    'V6':'VGG16',\n",
        "    'V9':'VGG19',\n",
        "    'X':'Xception'\n",
        "}\n",
        "\n",
        "chosen = 'DN201'"
      ],
      "execution_count": 0,
      "outputs": []
    },
    {
      "cell_type": "code",
      "metadata": {
        "id": "axkt7x4T6Wbl",
        "colab_type": "code",
        "colab": {}
      },
      "source": [
        "# ====== Augmentation List ===========\n",
        "# 'featurewise_center'              : False, \n",
        "# 'samplewise_center'               : False,\n",
        "# 'featurewise_std_normalization'   : False, \n",
        "# 'samplewise_std_normalization'    : False,\n",
        "# 'zca_whitening'                   : False, \n",
        "# 'zca_epsilon'                     : 1e-06, \n",
        "# 'rotation_range'                  : 0, \n",
        "# 'width_shift_range'               : 0.0,\n",
        "# 'height_shift_range'              : 0.0, \n",
        "# 'brightness_range'                : None, \n",
        "# 'shear_range'                     : 0.0, \n",
        "# 'zoom_range'                      : 0.0,\n",
        "# 'channel_shift_range'             : 0.0, \n",
        "# 'fill_mode'                       : 'nearest', \n",
        "# 'cval'                            : 0.0, \n",
        "# 'horizontal_flip'                 : False,\n",
        "# 'vertical_flip'                   : False, \n",
        "# 'rescale'                         : None, \n",
        "# 'preprocessing_function'          : None,\n",
        "# 'data_format'                     : None, \n",
        "# 'validation_split'                : 0.0, \n",
        "# 'dtype'                           : None        \n",
        "\n",
        "\n",
        "augmentation = {\n",
        "    'rescale'             : 1./255,\n",
        "    'rotation_range'      : 40,\n",
        "    'width_shift_range'   : 0.2,\n",
        "    'height_shift_range'  : 0.2,\n",
        "    'shear_range'         : 0.2,\n",
        "    'zoom_range'          : 0.2,\n",
        "    'horizontal_flip'     : True,\n",
        "}\n",
        "\n",
        "hyperparam = {\n",
        "    'batch_size'    : 64, \n",
        "    'epochs'        : 70,\n",
        "    'steps'         : 100,\n",
        "    'val_steps'     : 60,\n",
        "    'learning_rate' : 0.001,   \n",
        "    'input_size'    : 224\n",
        "}\n",
        "\n",
        "\n"
      ],
      "execution_count": 0,
      "outputs": []
    },
    {
      "cell_type": "markdown",
      "metadata": {
        "id": "T8e-X6VXAdeE",
        "colab_type": "text"
      },
      "source": [
        "Set up the data path. Please make sure inside the directory, there are `train` and `valid` folders, which each contains class directories containing images data.  "
      ]
    },
    {
      "cell_type": "code",
      "metadata": {
        "id": "fg1TqM4ck7vy",
        "colab_type": "code",
        "colab": {}
      },
      "source": [
        "data_path = '/content/New Plant Diseases Dataset(Augmented)/New Plant Diseases Dataset(Augmented)'"
      ],
      "execution_count": 0,
      "outputs": []
    },
    {
      "cell_type": "code",
      "metadata": {
        "id": "oJcv2dWS6l6V",
        "colab_type": "code",
        "outputId": "6f188477-1740-47a3-fe9f-2c5d22c7fc0d",
        "colab": {
          "base_uri": "https://localhost:8080/",
          "height": 88
        }
      },
      "source": [
        "cnn = TransferConvolutionalNetwork()\n",
        "\n",
        "# cnn.augmentations = augmentation\n",
        "# -- uncomment above line if want to use custom augmentation, \n",
        "# -- otherwise, only rescaling is going to be used\n",
        "\n",
        "cnn.hyperparam = hyperparam\n",
        "\n",
        "cnn.obtain_image_data(data_path)\n",
        "\n",
        "cnn.set_pretrained_model(pretrained_lst[chosen], \n",
        "                        lastpool='avg', fine_tune_at=200,\n",
        "                        feature_only=True)\n",
        "cnn.add_hidden_layers([1024], dropout=0.3)\n",
        "cnn.set_output_layer()\n",
        "\n",
        "# cnn.show_summary()"
      ],
      "execution_count": 40,
      "outputs": [
        {
          "output_type": "stream",
          "text": [
            "Found 75125 images belonging to 39 classes.\n",
            "Found 19641 images belonging to 39 classes.\n",
            "trainable layers: 508\n",
            "total layers: 708\n"
          ],
          "name": "stdout"
        }
      ]
    },
    {
      "cell_type": "code",
      "metadata": {
        "id": "HZNU8QKh8PIk",
        "colab_type": "code",
        "outputId": "a42299cb-c4e4-4ef8-8e23-ff44700edeff",
        "colab": {
          "base_uri": "https://localhost:8080/",
          "height": 944
        }
      },
      "source": [
        "history = cnn.train(save=True)"
      ],
      "execution_count": 41,
      "outputs": [
        {
          "output_type": "stream",
          "text": [
            "Epoch 1/70\n",
            "100/100 [==============================] - ETA: 0s - loss: 0.6804 - accuracy: 0.8120INFO:tensorflow:Assets written to: /content/drive/My Drive/Bangkit Final Project/tes2/assets\n",
            "100/100 [==============================] - 156s 2s/step - loss: 0.6804 - accuracy: 0.8120 - val_loss: 3.0409 - val_accuracy: 0.6044\n",
            "Epoch 2/70\n",
            "100/100 [==============================] - ETA: 0s - loss: 0.2503 - accuracy: 0.9250INFO:tensorflow:Assets written to: /content/drive/My Drive/Bangkit Final Project/tes2/assets\n",
            "100/100 [==============================] - 157s 2s/step - loss: 0.2503 - accuracy: 0.9250 - val_loss: 1.1766 - val_accuracy: 0.8128\n",
            "Epoch 3/70\n",
            "100/100 [==============================] - ETA: 0s - loss: 0.1587 - accuracy: 0.9508INFO:tensorflow:Assets written to: /content/drive/My Drive/Bangkit Final Project/tes2/assets\n",
            "100/100 [==============================] - 159s 2s/step - loss: 0.1587 - accuracy: 0.9508 - val_loss: 0.5611 - val_accuracy: 0.8792\n",
            "Epoch 4/70\n",
            "100/100 [==============================] - ETA: 0s - loss: 0.1424 - accuracy: 0.9563INFO:tensorflow:Assets written to: /content/drive/My Drive/Bangkit Final Project/tes2/assets\n",
            "100/100 [==============================] - 158s 2s/step - loss: 0.1424 - accuracy: 0.9563 - val_loss: 0.2568 - val_accuracy: 0.9370\n",
            "Epoch 5/70\n",
            "100/100 [==============================] - ETA: 0s - loss: 0.1209 - accuracy: 0.9659INFO:tensorflow:Assets written to: /content/drive/My Drive/Bangkit Final Project/tes2/assets\n",
            "100/100 [==============================] - 159s 2s/step - loss: 0.1209 - accuracy: 0.9659 - val_loss: 0.2400 - val_accuracy: 0.9555\n",
            "Epoch 6/70\n",
            "100/100 [==============================] - 83s 826ms/step - loss: 0.1259 - accuracy: 0.9642 - val_loss: 0.8486 - val_accuracy: 0.8591\n",
            "Epoch 7/70\n",
            "100/100 [==============================] - 84s 845ms/step - loss: 0.1095 - accuracy: 0.9663 - val_loss: 0.4562 - val_accuracy: 0.9047\n",
            "Epoch 8/70\n",
            "100/100 [==============================] - ETA: 0s - loss: 0.0984 - accuracy: 0.9723INFO:tensorflow:Assets written to: /content/drive/My Drive/Bangkit Final Project/tes2/assets\n",
            "100/100 [==============================] - 161s 2s/step - loss: 0.0984 - accuracy: 0.9723 - val_loss: 0.1525 - val_accuracy: 0.9557\n",
            "Epoch 9/70\n",
            "100/100 [==============================] - ETA: 0s - loss: 0.0856 - accuracy: 0.9706INFO:tensorflow:Assets written to: /content/drive/My Drive/Bangkit Final Project/tes2/assets\n",
            "100/100 [==============================] - 164s 2s/step - loss: 0.0856 - accuracy: 0.9706 - val_loss: 0.1004 - val_accuracy: 0.9716\n",
            "Epoch 10/70\n",
            "100/100 [==============================] - ETA: 0s - loss: 0.0677 - accuracy: 0.9789INFO:tensorflow:Assets written to: /content/drive/My Drive/Bangkit Final Project/tes2/assets\n",
            "100/100 [==============================] - 159s 2s/step - loss: 0.0677 - accuracy: 0.9789 - val_loss: 0.0443 - val_accuracy: 0.9857\n",
            "Epoch 11/70\n",
            "100/100 [==============================] - 83s 827ms/step - loss: 0.0648 - accuracy: 0.9775 - val_loss: 0.0748 - val_accuracy: 0.9805\n",
            "Epoch 12/70\n",
            "100/100 [==============================] - 85s 848ms/step - loss: 0.0593 - accuracy: 0.9822 - val_loss: 0.0759 - val_accuracy: 0.9755\n",
            "Epoch 13/70\n",
            "100/100 [==============================] - 85s 855ms/step - loss: 0.0736 - accuracy: 0.9762 - val_loss: 0.1177 - val_accuracy: 0.9698\n",
            "Epoch 14/70\n",
            "100/100 [==============================] - 86s 862ms/step - loss: 0.0707 - accuracy: 0.9812 - val_loss: 0.0669 - val_accuracy: 0.9797\n",
            "Epoch 15/70\n",
            "100/100 [==============================] - 87s 869ms/step - loss: 0.0618 - accuracy: 0.9819 - val_loss: 0.0776 - val_accuracy: 0.9833\n",
            "Epoch 16/70\n",
            "100/100 [==============================] - 87s 868ms/step - loss: 0.0630 - accuracy: 0.9816 - val_loss: 0.0679 - val_accuracy: 0.9841\n",
            "Epoch 17/70\n",
            "100/100 [==============================] - 87s 868ms/step - loss: 0.0413 - accuracy: 0.9867 - val_loss: 0.0640 - val_accuracy: 0.9826\n",
            "Epoch 18/70\n",
            "100/100 [==============================] - 87s 870ms/step - loss: 0.0562 - accuracy: 0.9856 - val_loss: 0.3455 - val_accuracy: 0.9326\n",
            "Epoch 19/70\n",
            "100/100 [==============================] - 95s 949ms/step - loss: 0.0691 - accuracy: 0.9795 - val_loss: 0.1035 - val_accuracy: 0.9711\n",
            "Epoch 20/70\n",
            "100/100 [==============================] - 87s 869ms/step - loss: 0.0649 - accuracy: 0.9793 - val_loss: 0.1396 - val_accuracy: 0.9693\n",
            "Epoch 21/70\n",
            "100/100 [==============================] - ETA: 0s - loss: 0.0216 - accuracy: 0.9919INFO:tensorflow:Assets written to: /content/drive/My Drive/Bangkit Final Project/tes2/assets\n",
            "100/100 [==============================] - 163s 2s/step - loss: 0.0216 - accuracy: 0.9919 - val_loss: 0.0307 - val_accuracy: 0.9917\n"
          ],
          "name": "stdout"
        }
      ]
    },
    {
      "cell_type": "code",
      "metadata": {
        "id": "zQxZh4SDePId",
        "colab_type": "code",
        "outputId": "13b47d91-5926-4b44-cb67-7afabf1debeb",
        "colab": {
          "base_uri": "https://localhost:8080/",
          "height": 545
        }
      },
      "source": [
        "plot_accuracy(history)"
      ],
      "execution_count": 43,
      "outputs": [
        {
          "output_type": "display_data",
          "data": {
            "image/png": "[encoded data removed]",
            "text/plain": [
              "<Figure size 432x288 with 1 Axes>"
            ]
          },
          "metadata": {
            "tags": [],
            "needs_background": "light"
          }
        },
        {
          "output_type": "display_data",
          "data": {
            "image/png": "[encoded data removed]",
            "text/plain": [
              "<Figure size 432x288 with 1 Axes>"
            ]
          },
          "metadata": {
            "tags": [],
            "needs_background": "light"
          }
        }
      ]
    },
    {
      "cell_type": "code",
      "metadata": {
        "id": "EZYAn4nl_ygh",
        "colab_type": "code",
        "colab": {
          "base_uri": "https://localhost:8080/",
          "height": 372
        },
        "outputId": "0b50ba07-b75e-44d3-e21f-643ff919b3ad"
      },
      "source": [
        "cnn.predict('/content/test/test', 20)"
      ],
      "execution_count": 42,
      "outputs": [
        {
          "output_type": "stream",
          "text": [
            "AppleScab3.JPG :  Apple___Apple_scab\n",
            "PotatoEarlyBlight1.JPG :  Potato___Early_blight\n",
            "TomatoHealthy2.JPG :  Tomato___healthy\n",
            "TomatoEarlyBlight2.JPG :  Tomato___Early_blight\n",
            "TomatoYellowCurlVirus1.JPG :  Tomato___Tomato_Yellow_Leaf_Curl_Virus\n",
            "TomatoEarlyBlight5.JPG :  Tomato___Early_blight\n",
            "TomatoEarlyBlight4.JPG :  Tomato___Early_blight\n",
            "AppleCedarRust2.JPG :  Apple___Cedar_apple_rust\n",
            "TomatoHealthy1.JPG :  Tomato___healthy\n",
            "PotatoHealthy1.JPG :  Potato___healthy\n",
            "AppleCedarRust1.JPG :  Apple___Cedar_apple_rust\n",
            "TomatoEarlyBlight1.JPG :  Tomato___Early_blight\n",
            "TomatoYellowCurlVirus4.JPG :  Tomato___Tomato_Yellow_Leaf_Curl_Virus\n",
            "AppleScab2.JPG :  Apple___Apple_scab\n",
            "PotatoEarlyBlight3.JPG :  Potato___Early_blight\n",
            "TomatoYellowCurlVirus3.JPG :  Tomato___Tomato_Yellow_Leaf_Curl_Virus\n",
            "PotatoHealthy2.JPG :  Potato___healthy\n",
            "TomatoHealthy3.JPG :  Tomato___healthy\n",
            "TomatoYellowCurlVirus5.JPG :  Tomato___Tomato_Yellow_Leaf_Curl_Virus\n",
            "CornCommonRust2.JPG :  Corn_(maize)___Common_rust_\n"
          ],
          "name": "stdout"
        }
      ]
    }
  ]
}