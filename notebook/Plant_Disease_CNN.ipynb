{
  "nbformat": 4,
  "nbformat_minor": 0,
  "metadata": {
    "colab": {
      "name": "Untitled0.ipynb",
      "provenance": [],
      "collapsed_sections": [],
      "mount_file_id": "1nREZ__VWUKsWwyXEhIKci8P7Vly_IWGO",
      "authorship_tag": "ABX9TyO0WbYWxGTTskpzCEas92FX",
      "include_colab_link": true
    },
    "kernelspec": {
      "name": "python3",
      "display_name": "Python 3"
    },
    "accelerator": "TPU"
  },
  "cells": [
    {
      "cell_type": "markdown",
      "metadata": {
        "id": "view-in-github",
        "colab_type": "text"
      },
      "source": [
        "<a href=\"https://colab.research.google.com/github/phoenixfin/plantdisesase_cnn/blob/master/notebook/Plant_Disease_CNN.ipynb\" target=\"_parent\"><img src=\"https://colab.research.google.com/assets/colab-badge.svg\" alt=\"Open In Colab\"/></a>"
      ]
    },
    {
      "cell_type": "markdown",
      "metadata": {
        "id": "fdmcTm3D-QZI",
        "colab_type": "text"
      },
      "source": [
        "# Preparing"
      ]
    },
    {
      "cell_type": "markdown",
      "metadata": {
        "id": "EiIRXXDi-W5S",
        "colab_type": "text"
      },
      "source": [
        "## Import some modules"
      ]
    },
    {
      "cell_type": "code",
      "metadata": {
        "id": "0j--ugeghdh-",
        "colab_type": "code",
        "colab": {}
      },
      "source": [
        "import tensorflow as tf\n",
        "import numpy as np\n",
        "import os, random\n",
        "from google.colab import drive\n",
        "from matplotlib import pyplot as plt"
      ],
      "execution_count": 0,
      "outputs": []
    },
    {
      "cell_type": "markdown",
      "metadata": {
        "id": "Kjjm5q3o-e-C",
        "colab_type": "text"
      },
      "source": [
        "## Set up kaggle datasets"
      ]
    },
    {
      "cell_type": "code",
      "metadata": {
        "id": "V7rj6RGoicDS",
        "colab_type": "code",
        "outputId": "9b9eca25-5ec3-433e-c203-835e278e1089",
        "colab": {
          "base_uri": "https://localhost:8080/",
          "height": 204
        }
      },
      "source": [
        "!pip install kaggle --upgrade"
      ],
      "execution_count": 0,
      "outputs": [
        {
          "output_type": "stream",
          "text": [
            "Requirement already up-to-date: kaggle in /usr/local/lib/python3.6/dist-packages (1.5.6)\n",
            "Requirement already satisfied, skipping upgrade: urllib3<1.25,>=1.21.1 in /usr/local/lib/python3.6/dist-packages (from kaggle) (1.24.3)\n",
            "Requirement already satisfied, skipping upgrade: six>=1.10 in /usr/local/lib/python3.6/dist-packages (from kaggle) (1.12.0)\n",
            "Requirement already satisfied, skipping upgrade: tqdm in /usr/local/lib/python3.6/dist-packages (from kaggle) (4.41.1)\n",
            "Requirement already satisfied, skipping upgrade: python-slugify in /usr/local/lib/python3.6/dist-packages (from kaggle) (4.0.0)\n",
            "Requirement already satisfied, skipping upgrade: certifi in /usr/local/lib/python3.6/dist-packages (from kaggle) (2020.4.5.1)\n",
            "Requirement already satisfied, skipping upgrade: requests in /usr/local/lib/python3.6/dist-packages (from kaggle) (2.23.0)\n",
            "Requirement already satisfied, skipping upgrade: python-dateutil in /usr/local/lib/python3.6/dist-packages (from kaggle) (2.8.1)\n",
            "Requirement already satisfied, skipping upgrade: text-unidecode>=1.3 in /usr/local/lib/python3.6/dist-packages (from python-slugify->kaggle) (1.3)\n",
            "Requirement already satisfied, skipping upgrade: idna<3,>=2.5 in /usr/local/lib/python3.6/dist-packages (from requests->kaggle) (2.9)\n",
            "Requirement already satisfied, skipping upgrade: chardet<4,>=3.0.2 in /usr/local/lib/python3.6/dist-packages (from requests->kaggle) (3.0.4)\n"
          ],
          "name": "stdout"
        }
      ]
    },
    {
      "cell_type": "markdown",
      "metadata": {
        "id": "uMdKHBre-nzV",
        "colab_type": "text"
      },
      "source": [
        "Before run the following code, please create first API Token in your Kaggle account (go to the `My Account` section on profile. Then click on `Create New API Token`). You will obtain ‘kaggle.json’ file. This file has the credentials of your API token for your account. Upload this to your google drive and set the path to `json_path` variable below.\n",
        "\n",
        "In following block, follow a link given, give access to Google Drive and enter a verification code for the API to work."
      ]
    },
    {
      "cell_type": "code",
      "metadata": {
        "id": "YWjSuzlyjRK-",
        "colab_type": "code",
        "outputId": "3db4d94f-6f59-4008-a33b-6d4d2f4ab207",
        "colab": {
          "base_uri": "https://localhost:8080/",
          "height": 122
        }
      },
      "source": [
        "drive.mount('/content/gdrive')\n",
        "json_path = \"Colab Notebooks/misc/\"\n",
        "\n",
        "os.environ['KAGGLE_CONFIG_DIR'] = \"/content/gdrive/My Drive/\"+json_path"
      ],
      "execution_count": 0,
      "outputs": [
        {
          "output_type": "stream",
          "text": [
            "Go to this URL in a browser: https://accounts.google.com/o/oauth2/auth?client_id=947318989803-6bn6qk8qdgf4n4g3pfee6491hc0brc4i.apps.googleusercontent.com&redirect_uri=urn%3aietf%3awg%3aoauth%3a2.0%3aoob&response_type=code&scope=email%20https%3a%2f%2fwww.googleapis.com%2fauth%2fdocs.test%20https%3a%2f%2fwww.googleapis.com%2fauth%2fdrive%20https%3a%2f%2fwww.googleapis.com%2fauth%2fdrive.photos.readonly%20https%3a%2f%2fwww.googleapis.com%2fauth%2fpeopleapi.readonly\n",
            "\n",
            "Enter your authorization code:\n",
            "··········\n",
            "Mounted at /content/gdrive\n"
          ],
          "name": "stdout"
        }
      ]
    },
    {
      "cell_type": "markdown",
      "metadata": {
        "id": "LEVjKKlxACFx",
        "colab_type": "text"
      },
      "source": [
        "Download the datasets"
      ]
    },
    {
      "cell_type": "code",
      "metadata": {
        "id": "Af8BBTHTkaHN",
        "colab_type": "code",
        "outputId": "68ceae25-f806-421d-9fc1-d20d65a21b22",
        "colab": {
          "base_uri": "https://localhost:8080/",
          "height": 68
        }
      },
      "source": [
        "!kaggle datasets download -d vipoooool/new-plant-diseases-dataset"
      ],
      "execution_count": 0,
      "outputs": [
        {
          "output_type": "stream",
          "text": [
            "Downloading new-plant-diseases-dataset.zip to /content\n",
            " 99% 2.68G/2.70G [00:31<00:00, 90.7MB/s]\n",
            "100% 2.70G/2.70G [00:31<00:00, 91.5MB/s]\n"
          ],
          "name": "stdout"
        }
      ]
    },
    {
      "cell_type": "markdown",
      "metadata": {
        "id": "u2xU6Qh3AFlI",
        "colab_type": "text"
      },
      "source": [
        "Unzip the downloaded file and remove the zip file"
      ]
    },
    {
      "cell_type": "code",
      "metadata": {
        "id": "Z1uxt2B9s23y",
        "colab_type": "code",
        "colab": {}
      },
      "source": [
        "!unzip \\*.zip  && rm *.zip"
      ],
      "execution_count": 0,
      "outputs": []
    },
    {
      "cell_type": "markdown",
      "metadata": {
        "id": "Zw4VKgALAKyR",
        "colab_type": "text"
      },
      "source": [
        "# Set up Model Framework"
      ]
    },
    {
      "cell_type": "markdown",
      "metadata": {
        "id": "AXiUEFfIAQJj",
        "colab_type": "text"
      },
      "source": [
        "Just run the following block to define the base framework class for the nerual network to be used "
      ]
    },
    {
      "cell_type": "code",
      "metadata": {
        "id": "J1xAaeyYwGaL",
        "colab_type": "code",
        "colab": {}
      },
      "source": [
        "class BaseConvolutionalNetwork(object):\n",
        "    callbacks_list = [\n",
        "        'no_progresss_stopping', \n",
        "        'save_per_epoch', \n",
        "        'log_to_csv', \n",
        "        'good_result_stopping'\n",
        "    ]    \n",
        "    \n",
        "    hyperparam = {}\n",
        "    augmentation = {}\n",
        "    \n",
        "    def __init__(self, load=False):\n",
        "        if not load:\n",
        "            self.create_new()\n",
        "        else:\n",
        "            self.load(load)\n",
        "\n",
        "    def show_summary(self):\n",
        "        self.model.summary()\n",
        "\n",
        "    def load(self,filename, obj='model'):\n",
        "        if obj=='model':\n",
        "            self.model = tf.keras.models.load_model('saved/'+filename)\n",
        "        elif obj=='weights_only':\n",
        "            self.model.load_weights('saved/'+filename+'/variables')\n",
        "        else:\n",
        "            print('Load failed. Unknown mode')\n",
        "\n",
        "    def save(self, filename, obj='model'):\n",
        "        path = 'saved/'+filename\n",
        "        if obj=='model':\n",
        "            self.model.save(path)\n",
        "        elif obj=='weights_only':\n",
        "            self.model.save_weights(path+'/'+variables)\n",
        "        else:\n",
        "            print('Load failed. Unknown mode')        \n",
        "\n",
        "    def reset_model(self, mode='metrics_only'):\n",
        "        if mode=='model':\n",
        "            self.create_new()\n",
        "        elif mode=='metrics_only':\n",
        "            self.model.reset_metrics()\n",
        "        else:\n",
        "            print('Load failed. Unknown mode')\n",
        "\n",
        "    def create_new(self):\n",
        "        self.model = tf.keras.models.Sequential()        \n",
        "    \n",
        "    def add_convolution(self, filter_num, kernels_size, \n",
        "                        pooling = (2,2), activation = 'relu', \n",
        "                        dropout = 0, normalize = False, first = True):\n",
        "        kwargs = {'activation':activation}\n",
        "        input_ = self.hyperparam['input_shape']\n",
        "        for i, num in enumerate(filter_num):\n",
        "            kwargs['filters'] = num\n",
        "            kwargs['kernel_size'] = kernels_size[i]\n",
        "            if first and i==0: kwargs['input_shape']= input_ + (3,)\n",
        "\n",
        "            self.model.add(tf.keras.layers.Conv2D(**kwargs))\n",
        "\n",
        "            if pooling: \n",
        "                self.model.add(tf.keras.layers.MaxPooling2D(*pooling))\n",
        "            if normalize:\n",
        "                self.model.add(tf.keras.layers.BatchNormalization())\n",
        "\n",
        "        if dropout:\n",
        "            self.model.add(tf.keras.layers.Dropout(dropout))\n",
        "\n",
        "        self.model.add(tf.keras.layers.Flatten())\n",
        "        \n",
        "    def set_hidden_layers(self, neurons_list, dropout = 0, \n",
        "                          normalize = False, activation='relu'):\n",
        "        for num in neurons_list:\n",
        "            hidden = tf.keras.layers.Dense(num, activation=activation)           \n",
        "            self.model.add(hidden)\n",
        "            if dropout:\n",
        "                self.model.add(tf.keras.layers.Dropout(dropout))\n",
        "            if normalize:\n",
        "                self.model.add(tf.keras.layers.BatchNormalization())\n",
        "\n",
        "    def set_output_layer(self):              \n",
        "        if self.mode == 'binary':\n",
        "            activation = 'sigmoid'\n",
        "            out_neurons = 1\n",
        "        elif self.mode == 'categorical':\n",
        "            activation = 'softmax'\n",
        "            out_neurons = self.image_data['train'].num_classes\n",
        "\n",
        "        output = tf.keras.layers.Dense(out_neurons, activation=activation)\n",
        "        self.model.add(output)\n",
        "\n",
        "    def set_parameters(self, dict_p):\n",
        "        self.hyperparam = dict_p\n",
        "        \n",
        "    def set_augmentations(self, aug_dict):\n",
        "        self.augmentation = aug_dict\n",
        "\n",
        "    def obtain_image_data(self, path):\n",
        "        train_dir = path+'/train'\n",
        "        val_dir = path+'/valid'\n",
        "                \n",
        "        IMG = tf.keras.preprocessing.image.ImageDataGenerator\n",
        "        # tg = IMG(**self.augmentation)\n",
        "        tg = IMG(rescale = 1.0/255.)\n",
        "        vg = IMG(rescale = 1.0/255.)\n",
        "\n",
        "        classes = len(os.listdir(train_dir))\n",
        "        self.mode = 'binary' if classes == 2 else 'categorical'\n",
        "\n",
        "        train_data = tg.flow_from_directory(\n",
        "            train_dir,\n",
        "            batch_size = self.hyperparam['batch_size'],\n",
        "            class_mode = self.mode,\n",
        "            target_size = self.hyperparam['input_shape']\n",
        "        )\n",
        "        validation_data =  vg.flow_from_directory(\n",
        "            val_dir,\n",
        "            batch_size = self.hyperparam['batch_size'],\n",
        "            class_mode = self.mode,\n",
        "            target_size = self.hyperparam['input_shape']\n",
        "        )\n",
        "        self.image_data = {'train':train_data, 'val':validation_data}\n",
        "\n",
        "    def set_callbacks(self, cb_list):\n",
        "        callbacks = []\n",
        "        CB = tf.keras.callbacks\n",
        "\n",
        "        # no progress stopping callback\n",
        "        if 'no_progress_stopping' in cb_list:\n",
        "            impatient = CB.EarlyStopping(monitor='accuracy', patience=3)\n",
        "            callbacks.append(impatient)\n",
        "\n",
        "        # save per epoch callback\n",
        "        if 'save_per_epoch' in cb_list:\n",
        "            checkpoint_save = CB.ModelCheckpoint(\n",
        "                filepath=\"saved\", \n",
        "                save_best_only=True)\n",
        "            callbacks.append(checkpoint_save)\n",
        "\n",
        "        # log to csv file callback\n",
        "        if 'log_to_csv' in cb_list:\n",
        "            logger = CB.CSVLogger('log.csv')\n",
        "            callbacks.append(logger)\n",
        "\n",
        "        # stop when enough callback\n",
        "        if 'good_result_stopping' in cb_list:\n",
        "            def stopper(epoch, logs):\n",
        "                if logs['accuracy']>0.97: self.model.stop_training = True\n",
        "            good_res = CB.LambdaCallback(on_epoch_end=lambda e,l: stopper(e,l))\n",
        "            callbacks.append(good_res)\n",
        "                            \n",
        "        return callbacks\n",
        "\n",
        "    def train(self, save=False):\n",
        "        p = self.hyperparam\n",
        "        \n",
        "        # Compile the model\n",
        "        opt = tf.keras.optimizers.Adam(learning_rate=p['learning_rate'])\n",
        "        loss = self.mode + '_crossentropy'\n",
        "        self.model.compile(optimizer=opt, loss=loss, metrics=['accuracy'])\n",
        "\n",
        "        # Set some callbacks\n",
        "        cb_list = self.callbacks_list.copy()\n",
        "        if not save:\n",
        "            cb_list.remove('save_per_epoch')\n",
        "        callbacks = self.set_callbacks(cb_list)\n",
        "\n",
        "        # Fitting the data!\n",
        "        history = self.model.fit(\n",
        "            self.image_data['train'],\n",
        "            validation_data = self.image_data['val'],\n",
        "            steps_per_epoch = p['steps'],\n",
        "            epochs = p['epoch'],\n",
        "            validation_steps = p['val_steps'],\n",
        "            callbacks = callbacks\n",
        "        )\n",
        "        return history\n",
        "     \n",
        "    def predict(self, test_path, num):\n",
        "        IM = tf.keras.preprocessing.image\n",
        "        class_dict = self.image_data['train'].class_indices\n",
        "        test_data = os.listdir(test_path)\n",
        "        randomized = random.sample(test_data, num)\n",
        "\n",
        "        for file in randomized:\n",
        "            img = IM.load_img(test_path+'/'+file, \n",
        "                              target_size = self.hyperparam['input_shape'])\n",
        "\n",
        "            x = IM.img_to_array(img)\n",
        "            x = np.expand_dims(x, axis=0)\n",
        "            images = np.vstack([x])\n",
        "            res = self.model.predict(images, batch_size=10)\n",
        "\n",
        "            print(file, ': ',class_dict.keys()[np.argmax(res[0])])"
      ],
      "execution_count": 0,
      "outputs": []
    },
    {
      "cell_type": "markdown",
      "metadata": {
        "id": "AZt3p06YA_xP",
        "colab_type": "text"
      },
      "source": [
        "Set up some basic hyperparameters and other augmentation parameters. The commented code shows the default available augmentation we can adjust."
      ]
    },
    {
      "cell_type": "code",
      "metadata": {
        "id": "axkt7x4T6Wbl",
        "colab_type": "code",
        "colab": {}
      },
      "source": [
        "# ====== Default Augmentation ===========\n",
        "# 'featurewise_center'              : False, \n",
        "# 'samplewise_center'               : False,\n",
        "# 'featurewise_std_normalization'   : False, \n",
        "# 'samplewise_std_normalization'    : False,\n",
        "# 'zca_whitening'                   : False, \n",
        "# 'zca_epsilon'                     : 1e-06, \n",
        "# 'rotation_range'                  : 0, \n",
        "# 'width_shift_range'               : 0.0,\n",
        "# 'height_shift_range'              : 0.0, \n",
        "# 'brightness_range'                : None, \n",
        "# 'shear_range'                     : 0.0, \n",
        "# 'zoom_range'                      : 0.0,\n",
        "# 'channel_shift_range'             : 0.0, \n",
        "# 'fill_mode'                       : 'nearest', \n",
        "# 'cval'                            : 0.0, \n",
        "# 'horizontal_flip'                 : False,\n",
        "# 'vertical_flip'                   : False, \n",
        "# 'rescale'                         : None, \n",
        "# 'preprocessing_function'          : None,\n",
        "# 'data_format'                     : None, \n",
        "# 'validation_split'                : 0.0, \n",
        "# 'dtype'                           : None        \n",
        "\n",
        "\n",
        "augmentation = {\n",
        "    'rescale'             : 1./255,\n",
        "    'rotation_range'      : 40,\n",
        "    'width_shift_range'   : 0.2,\n",
        "    'height_shift_range'  : 0.2,\n",
        "    'shear_range'         : 0.2,\n",
        "    'zoom_range'          : 0.2,\n",
        "    'horizontal_flip'     : True,\n",
        "}\n",
        "\n",
        "hyperparam = {\n",
        "    'batch_size'    : 32, \n",
        "    'epoch'         : 20,\n",
        "    'steps'         : 100,\n",
        "    'val_steps'     : 80,\n",
        "    'learning_rate' : 0.001,   \n",
        "    'input_shape'   : (300, 300)\n",
        "}\n",
        "\n",
        "\n",
        "data_path = '/content/New Plant Diseases Dataset(Augmented)/New Plant Diseases Dataset(Augmented)'\n"
      ],
      "execution_count": 0,
      "outputs": []
    },
    {
      "cell_type": "markdown",
      "metadata": {
        "id": "T8e-X6VXAdeE",
        "colab_type": "text"
      },
      "source": [
        "Set up the data path. Please make sure inside the directory, there are `train` and `valid` folders, which each contains class directories containing images data.  "
      ]
    },
    {
      "cell_type": "code",
      "metadata": {
        "id": "oJcv2dWS6l6V",
        "colab_type": "code",
        "outputId": "8b6f9762-8f80-4d57-94f4-d42dab59c952",
        "colab": {
          "base_uri": "https://localhost:8080/",
          "height": 561
        }
      },
      "source": [
        "cnn = BaseConvolutionalNetwork()\n",
        "\n",
        "cnn.set_augmentations(augmentation)\n",
        "cnn.set_parameters(hyperparam)\n",
        "\n",
        "cnn.obtain_image_data(data_path)\n",
        "\n",
        "cnn.add_convolution([64, 64, 128,128], [(3,3)]*4)\n",
        "cnn.set_hidden_layers([512])\n",
        "cnn.set_output_layer()\n",
        "\n",
        "cnn.show_summary()"
      ],
      "execution_count": 0,
      "outputs": [
        {
          "output_type": "stream",
          "text": [
            "Found 70295 images belonging to 38 classes.\n",
            "Found 17572 images belonging to 38 classes.\n",
            "Model: \"sequential_2\"\n",
            "_________________________________________________________________\n",
            "Layer (type)                 Output Shape              Param #   \n",
            "=================================================================\n",
            "conv2d_8 (Conv2D)            (None, 298, 298, 64)      1792      \n",
            "_________________________________________________________________\n",
            "max_pooling2d_8 (MaxPooling2 (None, 149, 149, 64)      0         \n",
            "_________________________________________________________________\n",
            "conv2d_9 (Conv2D)            (None, 147, 147, 64)      36928     \n",
            "_________________________________________________________________\n",
            "max_pooling2d_9 (MaxPooling2 (None, 73, 73, 64)        0         \n",
            "_________________________________________________________________\n",
            "conv2d_10 (Conv2D)           (None, 71, 71, 128)       73856     \n",
            "_________________________________________________________________\n",
            "max_pooling2d_10 (MaxPooling (None, 35, 35, 128)       0         \n",
            "_________________________________________________________________\n",
            "conv2d_11 (Conv2D)           (None, 33, 33, 128)       147584    \n",
            "_________________________________________________________________\n",
            "max_pooling2d_11 (MaxPooling (None, 16, 16, 128)       0         \n",
            "_________________________________________________________________\n",
            "flatten_2 (Flatten)          (None, 32768)             0         \n",
            "_________________________________________________________________\n",
            "dense_4 (Dense)              (None, 512)               16777728  \n",
            "_________________________________________________________________\n",
            "dense_5 (Dense)              (None, 38)                19494     \n",
            "=================================================================\n",
            "Total params: 17,057,382\n",
            "Trainable params: 17,057,382\n",
            "Non-trainable params: 0\n",
            "_________________________________________________________________\n"
          ],
          "name": "stdout"
        }
      ]
    },
    {
      "cell_type": "code",
      "metadata": {
        "id": "HZNU8QKh8PIk",
        "colab_type": "code",
        "outputId": "a2e9d9c0-e83a-4fd9-92ab-dea355efae55",
        "colab": {
          "base_uri": "https://localhost:8080/",
          "height": 1000
        }
      },
      "source": [
        "history = cnn.train(save=True)"
      ],
      "execution_count": 0,
      "outputs": [
        {
          "output_type": "stream",
          "text": [
            "Epoch 1/20\n",
            "100/100 [==============================] - ETA: 0s - loss: 3.2653 - accuracy: 0.1300WARNING:tensorflow:From /usr/local/lib/python3.6/dist-packages/tensorflow/python/ops/resource_variable_ops.py:1817: calling BaseResourceVariable.__init__ (from tensorflow.python.ops.resource_variable_ops) with constraint is deprecated and will be removed in a future version.\n",
            "Instructions for updating:\n",
            "If using Keras pass *_constraint arguments to layers.\n",
            "INFO:tensorflow:Assets written to: saved/assets\n",
            "100/100 [==============================] - 1025s 10s/step - loss: 3.2653 - accuracy: 0.1300 - val_loss: 2.6511 - val_accuracy: 0.2590\n",
            "Epoch 2/20\n",
            "100/100 [==============================] - ETA: 0s - loss: 2.2908 - accuracy: 0.3494INFO:tensorflow:Assets written to: saved/assets\n",
            "100/100 [==============================] - 1011s 10s/step - loss: 2.2908 - accuracy: 0.3494 - val_loss: 1.9666 - val_accuracy: 0.4219\n",
            "Epoch 3/20\n",
            "100/100 [==============================] - ETA: 0s - loss: 1.8175 - accuracy: 0.4725INFO:tensorflow:Assets written to: saved/assets\n",
            "100/100 [==============================] - 960s 10s/step - loss: 1.8175 - accuracy: 0.4725 - val_loss: 1.8986 - val_accuracy: 0.4328\n",
            "Epoch 4/20\n",
            "100/100 [==============================] - ETA: 0s - loss: 1.5273 - accuracy: 0.5509INFO:tensorflow:Assets written to: saved/assets\n",
            "100/100 [==============================] - 972s 10s/step - loss: 1.5273 - accuracy: 0.5509 - val_loss: 1.3821 - val_accuracy: 0.5902\n",
            "Epoch 5/20\n",
            "100/100 [==============================] - ETA: 0s - loss: 1.2642 - accuracy: 0.6175INFO:tensorflow:Assets written to: saved/assets\n",
            "100/100 [==============================] - 961s 10s/step - loss: 1.2642 - accuracy: 0.6175 - val_loss: 1.1704 - val_accuracy: 0.6340\n",
            "Epoch 6/20\n",
            "100/100 [==============================] - ETA: 0s - loss: 1.1545 - accuracy: 0.6463INFO:tensorflow:Assets written to: saved/assets\n",
            "100/100 [==============================] - 958s 10s/step - loss: 1.1545 - accuracy: 0.6463 - val_loss: 1.0740 - val_accuracy: 0.6609\n",
            "Epoch 7/20\n",
            "100/100 [==============================] - ETA: 0s - loss: 1.0203 - accuracy: 0.6844INFO:tensorflow:Assets written to: saved/assets\n",
            "100/100 [==============================] - 963s 10s/step - loss: 1.0203 - accuracy: 0.6844 - val_loss: 0.9180 - val_accuracy: 0.7137\n",
            "Epoch 8/20\n",
            "100/100 [==============================] - 966s 10s/step - loss: 0.8921 - accuracy: 0.7225 - val_loss: 0.9464 - val_accuracy: 0.7051\n",
            "Epoch 9/20\n",
            "100/100 [==============================] - ETA: 0s - loss: 0.8236 - accuracy: 0.7431INFO:tensorflow:Assets written to: saved/assets\n",
            "100/100 [==============================] - 964s 10s/step - loss: 0.8236 - accuracy: 0.7431 - val_loss: 0.8409 - val_accuracy: 0.7281\n",
            "Epoch 10/20\n",
            "100/100 [==============================] - ETA: 0s - loss: 0.7327 - accuracy: 0.7775INFO:tensorflow:Assets written to: saved/assets\n",
            "100/100 [==============================] - 962s 10s/step - loss: 0.7327 - accuracy: 0.7775 - val_loss: 0.8359 - val_accuracy: 0.7398\n",
            "Epoch 11/20\n",
            "100/100 [==============================] - ETA: 0s - loss: 0.6411 - accuracy: 0.7975INFO:tensorflow:Assets written to: saved/assets\n",
            "100/100 [==============================] - 957s 10s/step - loss: 0.6411 - accuracy: 0.7975 - val_loss: 0.7322 - val_accuracy: 0.7781\n",
            "Epoch 12/20\n",
            "100/100 [==============================] - ETA: 0s - loss: 0.6100 - accuracy: 0.8006INFO:tensorflow:Assets written to: saved/assets\n",
            "100/100 [==============================] - 963s 10s/step - loss: 0.6100 - accuracy: 0.8006 - val_loss: 0.6534 - val_accuracy: 0.7941\n",
            "Epoch 13/20\n",
            "100/100 [==============================] - 964s 10s/step - loss: 0.5287 - accuracy: 0.8322 - val_loss: 0.7101 - val_accuracy: 0.7867\n",
            "Epoch 14/20\n",
            "100/100 [==============================] - ETA: 0s - loss: 0.5683 - accuracy: 0.8188INFO:tensorflow:Assets written to: saved/assets\n",
            "100/100 [==============================] - 961s 10s/step - loss: 0.5683 - accuracy: 0.8188 - val_loss: 0.5211 - val_accuracy: 0.8375\n",
            "Epoch 15/20\n",
            "100/100 [==============================] - 1029s 10s/step - loss: 0.4876 - accuracy: 0.8459 - val_loss: 0.5546 - val_accuracy: 0.8246\n",
            "Epoch 16/20\n",
            "100/100 [==============================] - ETA: 0s - loss: 0.4788 - accuracy: 0.8422INFO:tensorflow:Assets written to: saved/assets\n",
            "100/100 [==============================] - 996s 10s/step - loss: 0.4788 - accuracy: 0.8422 - val_loss: 0.4590 - val_accuracy: 0.8543\n",
            "Epoch 17/20\n",
            "100/100 [==============================] - 958s 10s/step - loss: 0.4312 - accuracy: 0.8581 - val_loss: 0.4809 - val_accuracy: 0.8566\n",
            "Epoch 18/20\n",
            "100/100 [==============================] - 955s 10s/step - loss: 0.4261 - accuracy: 0.8597 - val_loss: 0.5310 - val_accuracy: 0.8395\n",
            "Epoch 19/20\n",
            "100/100 [==============================] - 967s 10s/step - loss: 0.3567 - accuracy: 0.8859 - val_loss: 0.6180 - val_accuracy: 0.8043\n",
            "Epoch 20/20\n",
            "100/100 [==============================] - ETA: 0s - loss: 0.3545 - accuracy: 0.8869INFO:tensorflow:Assets written to: saved/assets\n",
            "100/100 [==============================] - 958s 10s/step - loss: 0.3545 - accuracy: 0.8869 - val_loss: 0.4224 - val_accuracy: 0.8570\n"
          ],
          "name": "stdout"
        }
      ]
    },
    {
      "cell_type": "code",
      "metadata": {
        "id": "B_HOAhUxdygl",
        "colab_type": "code",
        "colab": {}
      },
      "source": [
        "def plot_accuracy(history):\n",
        "    acc      = history.history['accuracy']\n",
        "    val_acc  = history.history['val_accuracy']\n",
        "    loss     = history.history['loss']\n",
        "    val_loss = history.history['val_loss']\n",
        "\n",
        "    epochs   = range(len(acc)) # Get number of epochs\n",
        "\n",
        "    plt.plot(epochs, acc, 'bo', label='Training accuracy')\n",
        "    plt.plot(epochs, val_acc, 'b', label='Validation accuracy')\n",
        "    plt.title('Training and validation accuracy')\n",
        "    plt.legend()\n",
        "    plt.figure()\n",
        "\n",
        "    plt.plot(epochs, loss, 'bo', label='Training Loss')\n",
        "    plt.plot(epochs, val_loss, 'b', label='Validation Loss')\n",
        "    plt.title('Training and validation loss')\n",
        "    plt.legend()\n",
        "\n",
        "    plt.show()"
      ],
      "execution_count": 0,
      "outputs": []
    },
    {
      "cell_type": "code",
      "metadata": {
        "id": "zQxZh4SDePId",
        "colab_type": "code",
        "outputId": "0ed9af9d-959c-42e2-c6e7-9a5f461ac4c8",
        "colab": {
          "base_uri": "https://localhost:8080/",
          "height": 545
        }
      },
      "source": [
        "plot_accuracy(history)"
      ],
      "execution_count": 0,
      "outputs": [
        {
          "output_type": "display_data",
          "data": {
            "image/png": "[encoded data removed]",
            "text/plain": [
              "<Figure size 432x288 with 1 Axes>"
            ]
          },
          "metadata": {
            "tags": [],
            "needs_background": "light"
          }
        },
        {
          "output_type": "display_data",
          "data": {
            "image/png": "[encoded data removed]",
            "text/plain": [
              "<Figure size 432x288 with 1 Axes>"
            ]
          },
          "metadata": {
            "tags": [],
            "needs_background": "light"
          }
        }
      ]
    },
    {
      "cell_type": "code",
      "metadata": {
        "id": "EZYAn4nl_ygh",
        "colab_type": "code",
        "colab": {}
      },
      "source": [
        "cnn.predict('/content/test/test', 20)"
      ],
      "execution_count": 0,
      "outputs": []
    }
  ]
}